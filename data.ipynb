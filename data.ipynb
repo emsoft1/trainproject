{
 "cells": [
  {
   "cell_type": "code",
   "execution_count": 1,
   "metadata": {},
   "outputs": [],
   "source": [
    "import pandas as pd"
   ]
  },
  {
   "cell_type": "code",
   "execution_count": null,
   "metadata": {},
   "outputs": [],
   "source": []
  },
  {
   "cell_type": "code",
   "execution_count": 7,
   "metadata": {},
   "outputs": [],
   "source": [
    "\n",
    "\n",
    "df  = pd.read_csv(\"new.csv\")\n"
   ]
  },
  {
   "cell_type": "code",
   "execution_count": 8,
   "metadata": {},
   "outputs": [
    {
     "data": {
      "text/html": [
       "<div>\n",
       "<style scoped>\n",
       "    .dataframe tbody tr th:only-of-type {\n",
       "        vertical-align: middle;\n",
       "    }\n",
       "\n",
       "    .dataframe tbody tr th {\n",
       "        vertical-align: top;\n",
       "    }\n",
       "\n",
       "    .dataframe thead th {\n",
       "        text-align: right;\n",
       "    }\n",
       "</style>\n",
       "<table border=\"1\" class=\"dataframe\">\n",
       "  <thead>\n",
       "    <tr style=\"text-align: right;\">\n",
       "      <th></th>\n",
       "      <th>Unnamed: 0</th>\n",
       "      <th>0_200</th>\n",
       "      <th>0_500</th>\n",
       "      <th>0_800</th>\n",
       "      <th>1_200</th>\n",
       "      <th>1_500</th>\n",
       "      <th>1_800</th>\n",
       "      <th>2_200</th>\n",
       "      <th>2_500</th>\n",
       "      <th>2_800</th>\n",
       "      <th>...</th>\n",
       "      <th>58_500</th>\n",
       "      <th>58_800</th>\n",
       "      <th>59_200</th>\n",
       "      <th>59_500</th>\n",
       "      <th>59_800</th>\n",
       "      <th>60_200</th>\n",
       "      <th>60_500</th>\n",
       "      <th>60_800</th>\n",
       "      <th>train_weight</th>\n",
       "      <th>train_speed</th>\n",
       "    </tr>\n",
       "  </thead>\n",
       "  <tbody>\n",
       "    <tr>\n",
       "      <th>0</th>\n",
       "      <td>0</td>\n",
       "      <td>8.765522</td>\n",
       "      <td>1.275375</td>\n",
       "      <td>0.486835</td>\n",
       "      <td>10.380623</td>\n",
       "      <td>1.358081</td>\n",
       "      <td>0.505988</td>\n",
       "      <td>12.486993</td>\n",
       "      <td>1.4491</td>\n",
       "      <td>0.526293</td>\n",
       "      <td>...</td>\n",
       "      <td>2.02395</td>\n",
       "      <td>41.522491</td>\n",
       "      <td>0.612245</td>\n",
       "      <td>1.875</td>\n",
       "      <td>30.0</td>\n",
       "      <td>0.586826</td>\n",
       "      <td>1.741907</td>\n",
       "      <td>22.68431</td>\n",
       "      <td>10000</td>\n",
       "      <td>30</td>\n",
       "    </tr>\n",
       "  </tbody>\n",
       "</table>\n",
       "<p>1 rows × 186 columns</p>\n",
       "</div>"
      ],
      "text/plain": [
       "   Unnamed: 0     0_200     0_500     0_800      1_200     1_500     1_800  \\\n",
       "0           0  8.765522  1.275375  0.486835  10.380623  1.358081  0.505988   \n",
       "\n",
       "       2_200   2_500     2_800  ...   58_500     58_800    59_200  59_500  \\\n",
       "0  12.486993  1.4491  0.526293  ...  2.02395  41.522491  0.612245   1.875   \n",
       "\n",
       "   59_800    60_200    60_500    60_800  train_weight  train_speed  \n",
       "0    30.0  0.586826  1.741907  22.68431         10000           30  \n",
       "\n",
       "[1 rows x 186 columns]"
      ]
     },
     "execution_count": 8,
     "metadata": {},
     "output_type": "execute_result"
    }
   ],
   "source": [
    "df"
   ]
  }
 ],
 "metadata": {
  "kernelspec": {
   "display_name": "Python 3",
   "language": "python",
   "name": "python3"
  },
  "language_info": {
   "codemirror_mode": {
    "name": "ipython",
    "version": 3
   },
   "file_extension": ".py",
   "mimetype": "text/x-python",
   "name": "python",
   "nbconvert_exporter": "python",
   "pygments_lexer": "ipython3",
   "version": "3.10.6"
  }
 },
 "nbformat": 4,
 "nbformat_minor": 2
}
